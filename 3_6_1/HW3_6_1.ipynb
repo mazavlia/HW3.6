{
 "cells": [
  {
   "cell_type": "markdown",
   "source": [
    "# Задание 1\n",
    "\n",
    "Генерация данных о студентах и их успеваемости\n",
    "\n",
    "    Генерация данных:\n",
    "        Сгенерируйте случайные данные о студентах, включая их идентификаторы (ID), имена, возрасты и города.\n",
    "        Создайте данные о предметах (курсах), включая их идентификаторы (ID), названия и описания.\n",
    "        Сгенерируйте данные об оценках студентов по предметам, включая их ID студента, ID предмета и оценку (например, от 1 до 10).\n",
    "\n",
    "    Создание DataFrame:\n",
    "        Создайте DataFrame для каждого набора данных (студенты, предметы, оценки) с использованием библиотеки PySpark.\n",
    "\n",
    "    Обработка данных:\n",
    "        Посчитайте средний возраст студентов.\n",
    "        Определите количество студентов из каждого города.\n",
    "        Найдите средний балл студентов по всем предметам.\n",
    "        Определите самый популярный предмет (предмет, который выбрали наибольшее количество студентов).\n"
   ],
   "metadata": {
    "collapsed": false
   },
   "id": "6b0916a0e1dcaa8b"
  },
  {
   "cell_type": "markdown",
   "source": [
    "### Импортируем библиотеки"
   ],
   "metadata": {
    "collapsed": false
   },
   "id": "4dfdc6fe240cb21d"
  },
  {
   "cell_type": "code",
   "execution_count": 18,
   "outputs": [],
   "source": [
    "import random\n",
    "from faker import Faker\n",
    "from pyspark.sql import SparkSession\n",
    "from pyspark.sql.functions import avg, count\n",
    "from pyspark.sql.types import IntegerType, StringType, FloatType"
   ],
   "metadata": {
    "collapsed": false,
    "ExecuteTime": {
     "end_time": "2024-07-21T22:47:04.725436045Z",
     "start_time": "2024-07-21T22:47:04.683206534Z"
    }
   },
   "id": "9ac79438681f0290"
  },
  {
   "cell_type": "markdown",
   "source": [
    "### Инициализация SparkSession, Faker"
   ],
   "metadata": {
    "collapsed": false
   },
   "id": "cfc79d5219c8964f"
  },
  {
   "cell_type": "code",
   "execution_count": 19,
   "outputs": [],
   "source": [
    "spark = SparkSession.builder \\\n",
    "    .appName(\"Student Data Generation\") \\\n",
    "    .getOrCreate()\n",
    "\n",
    "fake = Faker('ru_RU')"
   ],
   "metadata": {
    "collapsed": false,
    "ExecuteTime": {
     "end_time": "2024-07-21T22:47:05.468372590Z",
     "start_time": "2024-07-21T22:47:05.356019508Z"
    }
   },
   "id": "245e3f4436b4e29e"
  },
  {
   "cell_type": "markdown",
   "source": [
    "### Количество студентов, курсов и оценок"
   ],
   "metadata": {
    "collapsed": false
   },
   "id": "b7d1ab683e445b89"
  },
  {
   "cell_type": "code",
   "execution_count": 20,
   "outputs": [],
   "source": [
    "num_students = int(input(\"Enter the number of students to generate: \"))\n",
    "num_courses = int(input(\"Enter the number of courses to generate: \"))\n",
    "num_grades = int(input(\"Enter the number of grades to generate: \"))\n",
    "\n",
    "# Генерация данных о студентах\n",
    "students = [(i, fake.name(), random.randint(18, 25), fake.city()) for i in range(1, num_students + 1)]\n",
    "df_students = spark.createDataFrame(students, ['StudentID', 'Name', 'Age', 'City'])\n",
    "\n",
    "# Генерация данных о предметах\n",
    "courses = [(i, fake.word().capitalize(), fake.sentence(nb_words=6)) for i in range(1, num_courses + 1)]\n",
    "df_courses = spark.createDataFrame(courses, ['CourseID', 'CourseName', 'Description'])\n",
    "\n",
    "# Генерация данных об оценках\n",
    "grades = [(random.randint(1, num_students), random.randint(1, num_courses), random.randint(1, 10)) for _ in range(num_grades)]\n",
    "df_grades = spark.createDataFrame(grades, ['StudentID', 'CourseID', 'Grade'])"
   ],
   "metadata": {
    "collapsed": false,
    "ExecuteTime": {
     "end_time": "2024-07-21T22:47:22.180328154Z",
     "start_time": "2024-07-21T22:47:06.006053185Z"
    }
   },
   "id": "6b7f3e96597aa84"
  },
  {
   "cell_type": "markdown",
   "source": [
    "## Обработка данных"
   ],
   "metadata": {
    "collapsed": false
   },
   "id": "decab73410261d43"
  },
  {
   "cell_type": "markdown",
   "source": [
    "### 1. Средний возраст студентов"
   ],
   "metadata": {
    "collapsed": false
   },
   "id": "c3c71667d3ca5fb4"
  },
  {
   "cell_type": "code",
   "execution_count": 21,
   "outputs": [
    {
     "name": "stdout",
     "output_type": "stream",
     "text": [
      "Средний возраст студентов: 21.51\n"
     ]
    }
   ],
   "source": [
    "avg_age = df_students.select(avg('Age')).first()[0]\n",
    "print(f\"Средний возраст студентов: {avg_age:.2f}\")"
   ],
   "metadata": {
    "collapsed": false,
    "ExecuteTime": {
     "end_time": "2024-07-21T22:47:25.623375708Z",
     "start_time": "2024-07-21T22:47:25.349037041Z"
    }
   },
   "id": "bc28f063196f1bd5"
  },
  {
   "cell_type": "markdown",
   "source": [
    "### 2. Количество студентов из каждого города"
   ],
   "metadata": {
    "collapsed": false
   },
   "id": "47164f117fe7c9ad"
  },
  {
   "cell_type": "code",
   "execution_count": 22,
   "outputs": [
    {
     "name": "stdout",
     "output_type": "stream",
     "text": [
      "Количество студентов из каждого города:\n",
      "+--------------------+-----+\n",
      "|                City|count|\n",
      "+--------------------+-----+\n",
      "|           д. Шумиха|    3|\n",
      "|          клх Яхрома|    1|\n",
      "|    г. Камень-на-Оби|    1|\n",
      "|        д. Приозерск|    2|\n",
      "|        п. Кондопога|    1|\n",
      "|   г. Красная Поляна|    1|\n",
      "|ст. Набережные Челны|    1|\n",
      "|       клх Миллерово|    1|\n",
      "|         д. Челюскин|    1|\n",
      "|         д. Адыгейск|    2|\n",
      "|            к. Тулун|    1|\n",
      "|       к. Домодедово|    1|\n",
      "|    к. Солнечногорск|    1|\n",
      "|  г. Верхнее Пенжино|    1|\n",
      "|          п. Джейрах|    1|\n",
      "|       п. Мыс Шмидта|    2|\n",
      "|д. Переславль-Зал...|    1|\n",
      "|           п. Палана|    1|\n",
      "|      д. Новосибирск|    1|\n",
      "|         г. Качканар|    3|\n",
      "+--------------------+-----+\n",
      "only showing top 20 rows\n"
     ]
    }
   ],
   "source": [
    "students_per_city = df_students.groupBy('City').count()\n",
    "print(\"Количество студентов из каждого города:\")\n",
    "students_per_city.show()"
   ],
   "metadata": {
    "collapsed": false,
    "ExecuteTime": {
     "end_time": "2024-07-21T22:47:33.017750585Z",
     "start_time": "2024-07-21T22:47:32.725084365Z"
    }
   },
   "id": "227639bd8c0412fc"
  },
  {
   "cell_type": "markdown",
   "source": [
    "### 3. Средний балл студентов по всем предметам"
   ],
   "metadata": {
    "collapsed": false
   },
   "id": "e4067aa589b9320b"
  },
  {
   "cell_type": "code",
   "execution_count": 23,
   "outputs": [
    {
     "name": "stdout",
     "output_type": "stream",
     "text": [
      "Средний балл студентов по всем предметам: 6.88\n"
     ]
    }
   ],
   "source": [
    "avg_grade = df_grades.select(avg('Grade')).first()[0]\n",
    "print(f\"Средний балл студентов по всем предметам: {avg_grade:.2f}\")"
   ],
   "metadata": {
    "collapsed": false,
    "ExecuteTime": {
     "end_time": "2024-07-21T22:47:40.931650461Z",
     "start_time": "2024-07-21T22:47:40.726745707Z"
    }
   },
   "id": "9cdec8f89004fe56"
  },
  {
   "cell_type": "markdown",
   "source": [
    "### 4. Самый популярный предмет"
   ],
   "metadata": {
    "collapsed": false
   },
   "id": "606bb5b4ecfd631d"
  },
  {
   "cell_type": "code",
   "execution_count": 24,
   "outputs": [
    {
     "name": "stdout",
     "output_type": "stream",
     "text": [
      "Самый популярный предмет: Настать с количеством студентов: 2\n"
     ]
    }
   ],
   "source": [
    "popular_course = df_grades.groupBy('CourseID').count().orderBy('count', ascending=False).first()\n",
    "course_name = df_courses.filter(df_courses.CourseID == popular_course['CourseID']).select('CourseName').first()[0]\n",
    "print(f\"Самый популярный предмет: {course_name} с количеством студентов: {popular_course['count']}\")"
   ],
   "metadata": {
    "collapsed": false,
    "ExecuteTime": {
     "end_time": "2024-07-21T22:47:44.859769850Z",
     "start_time": "2024-07-21T22:47:44.541244947Z"
    }
   },
   "id": "26404a7b01f3b611"
  },
  {
   "cell_type": "markdown",
   "source": [
    "### Сохранение данных в CSV"
   ],
   "metadata": {
    "collapsed": false
   },
   "id": "d78989c51c7efdcd"
  },
  {
   "cell_type": "code",
   "execution_count": 26,
   "outputs": [
    {
     "name": "stderr",
     "output_type": "stream",
     "text": [
      "                                                                                \r"
     ]
    }
   ],
   "source": [
    "df_students.coalesce(1).write.csv('students.csv', header=True)\n",
    "df_courses.coalesce(1).write.csv('courses.csv', header=True)\n",
    "df_grades.coalesce(1).write.csv('grades.csv', header=True)"
   ],
   "metadata": {
    "collapsed": false,
    "ExecuteTime": {
     "end_time": "2024-07-21T22:48:22.382406330Z",
     "start_time": "2024-07-21T22:48:20.380050985Z"
    }
   },
   "id": "e8df4ebb9c417528"
  },
  {
   "cell_type": "markdown",
   "source": [
    "### Остановка SparkSession\n"
   ],
   "metadata": {
    "collapsed": false
   },
   "id": "a25dd6b20a5afe70"
  },
  {
   "cell_type": "code",
   "execution_count": 27,
   "outputs": [],
   "source": [
    "spark.stop()"
   ],
   "metadata": {
    "collapsed": false,
    "ExecuteTime": {
     "end_time": "2024-07-21T22:55:21.814883999Z",
     "start_time": "2024-07-21T22:55:21.324456169Z"
    }
   },
   "id": "c1af47c4b8bda076"
  },
  {
   "cell_type": "code",
   "execution_count": null,
   "outputs": [],
   "source": [],
   "metadata": {
    "collapsed": false
   },
   "id": "9a01f512a1c909b9"
  }
 ],
 "metadata": {
  "kernelspec": {
   "display_name": "Python 3",
   "language": "python",
   "name": "python3"
  },
  "language_info": {
   "codemirror_mode": {
    "name": "ipython",
    "version": 2
   },
   "file_extension": ".py",
   "mimetype": "text/x-python",
   "name": "python",
   "nbconvert_exporter": "python",
   "pygments_lexer": "ipython2",
   "version": "2.7.6"
  }
 },
 "nbformat": 4,
 "nbformat_minor": 5
}
