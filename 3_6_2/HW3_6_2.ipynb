{
 "cells": [
  {
   "cell_type": "markdown",
   "source": [
    "# Задание 2\n",
    "Генерация синтетических данных с использованием Apache Spark\n",
    "\n",
    "Цель задания: Использовать Apache Spark для создания синтетического набора данных, который имитирует информацию о покупках в интернет-магазине. Набор данных должен включать в себя информацию о заказах, включая дату заказа, идентификатор пользователя, название товара, количество и цену. Сгенерированные данные будут использованы для последующего анализа покупательской активности и понимания потребительских трендов.\n",
    "Шаги выполнения:\n",
    "\n",
    "    Генерация данных:\n",
    "        Создать DataFrame с полями: Дата, UserID, Продукт, Количество, Цена.\n",
    "        Данные для поля Продукт генерируются из списка возможных товаров ( не меньше 5 товаров )\n",
    "        Количество и Цена должны генерироваться случайно в заданных пределах.\n",
    "        Дата должна быть в пределах последнего года.\n",
    "        UserID представляет собой случайное число, имитирующее идентификаторы пользователей.\n",
    "        Обратите внимание, что должна быть возможности изменять количество сгенерированных строк. Минимальное количество - 1000 строк.\n",
    "    Сохранение данных:\n",
    "        Сохранить сгенерированный DataFrame в формате CSV для последующего анализа.\n",
    "\n",
    "Результат выполнения задания (код генерации синтетических данных и созданный файл *.csv) необходимо выложить в github/gitlab и указать ссылку на Ваш репозиторий (не забудьте: репозиторий должен быть публичным)."
   ],
   "metadata": {
    "collapsed": false
   },
   "id": "957a6ed36e5a814a"
  },
  {
   "cell_type": "markdown",
   "source": [
    "### Импорт библиотек"
   ],
   "metadata": {
    "collapsed": false
   },
   "id": "9ea5ad60eba24e5"
  },
  {
   "cell_type": "code",
   "execution_count": 1,
   "outputs": [],
   "source": [
    "#!pip install Faker"
   ],
   "metadata": {
    "collapsed": false,
    "ExecuteTime": {
     "end_time": "2024-07-21T22:54:17.858599152Z",
     "start_time": "2024-07-21T22:54:17.857311546Z"
    }
   },
   "id": "13c993042e296bf6"
  },
  {
   "cell_type": "code",
   "execution_count": 2,
   "outputs": [],
   "source": [
    "import random\n",
    "from faker import Faker\n",
    "from pyspark.sql import SparkSession\n",
    "from pyspark.sql.functions import col, udf\n",
    "from pyspark.sql.types import IntegerType, DoubleType\n",
    "from datetime import datetime, timedelta"
   ],
   "metadata": {
    "collapsed": false,
    "ExecuteTime": {
     "end_time": "2024-07-21T22:54:18.227130381Z",
     "start_time": "2024-07-21T22:54:18.004459562Z"
    }
   },
   "id": "initial_id"
  },
  {
   "cell_type": "markdown",
   "source": [
    "### Инициализация SparkSession"
   ],
   "metadata": {
    "collapsed": false
   },
   "id": "caedd982d586a2e2"
  },
  {
   "cell_type": "code",
   "execution_count": 3,
   "outputs": [
    {
     "name": "stderr",
     "output_type": "stream",
     "text": [
      "24/07/22 03:54:20 WARN Utils: Your hostname, marina-linux resolves to a loopback address: 127.0.1.1; using 192.168.0.6 instead (on interface wlp0s20f3)\n",
      "24/07/22 03:54:20 WARN Utils: Set SPARK_LOCAL_IP if you need to bind to another address\n",
      "Setting default log level to \"WARN\".\n",
      "To adjust logging level use sc.setLogLevel(newLevel). For SparkR, use setLogLevel(newLevel).\n",
      "24/07/22 03:54:25 WARN NativeCodeLoader: Unable to load native-hadoop library for your platform... using builtin-java classes where applicable\n",
      "24/07/22 03:54:26 WARN Utils: Service 'SparkUI' could not bind on port 4040. Attempting port 4041.\n"
     ]
    }
   ],
   "source": [
    "spark = SparkSession.builder \\\n",
    "    .appName(\"Synthetic Data Generation\") \\\n",
    "    .getOrCreate()"
   ],
   "metadata": {
    "collapsed": false,
    "ExecuteTime": {
     "end_time": "2024-07-21T22:54:26.346590636Z",
     "start_time": "2024-07-21T22:54:19.181739101Z"
    }
   },
   "id": "ab46131882494fc0"
  },
  {
   "cell_type": "markdown",
   "source": [
    "### Инициализация Faker"
   ],
   "metadata": {
    "collapsed": false
   },
   "id": "434cb010c6bfdeda"
  },
  {
   "cell_type": "code",
   "execution_count": 4,
   "outputs": [],
   "source": [
    "fake = Faker('ru_RU')"
   ],
   "metadata": {
    "collapsed": false,
    "ExecuteTime": {
     "end_time": "2024-07-21T22:54:28.229876681Z",
     "start_time": "2024-07-21T22:54:28.085424993Z"
    }
   },
   "id": "40fc0607f1a82061"
  },
  {
   "cell_type": "markdown",
   "source": [
    "### Функция для генерации данных"
   ],
   "metadata": {
    "collapsed": false
   },
   "id": "41d94c2569ba9270"
  },
  {
   "cell_type": "code",
   "execution_count": 5,
   "outputs": [],
   "source": [
    "def generate_random_date():\n",
    "    start_date = datetime.now() - timedelta(days=365)\n",
    "    random_date = start_date + timedelta(days=random.randint(0, 365))\n",
    "    return random_date.strftime('%Y-%m-%d')\n",
    "\n",
    "# Количество строк для генерации\n",
    "num_rows = int(input(\"Enter the number of rows to generate: \"))\n",
    "\n",
    "# Список продуктов\n",
    "products = ['Телефон', 'Ноутбук', 'Планшет', 'Часы', 'Наушники']\n",
    "\n",
    "# Генерация данных\n",
    "data = []\n",
    "for _ in range(num_rows):\n",
    "    data.append((generate_random_date(),\n",
    "                 random.randint(1, 1000),  # UserID\n",
    "                 random.choice(products),  # Продукт\n",
    "                 random.randint(1, 5),     # Количество\n",
    "                 round(random.uniform(1000, 50000), 2)))  # Цена\n",
    "\n",
    "# Создание DataFrame\n",
    "df = spark.createDataFrame(data, ['Дата', 'UserID', 'Продукт', 'Количество', 'Цена'])"
   ],
   "metadata": {
    "collapsed": false,
    "ExecuteTime": {
     "end_time": "2024-07-21T22:54:33.222979334Z",
     "start_time": "2024-07-21T22:54:29.406170836Z"
    }
   },
   "id": "b1b5ce861d6c8db8"
  },
  {
   "cell_type": "markdown",
   "source": [
    "### Сохранение DataFrame в CSV"
   ],
   "metadata": {
    "collapsed": false
   },
   "id": "b1f231a3ed61693"
  },
  {
   "cell_type": "code",
   "execution_count": 6,
   "outputs": [
    {
     "name": "stderr",
     "output_type": "stream",
     "text": [
      "                                                                                \r"
     ]
    },
    {
     "name": "stdout",
     "output_type": "stream",
     "text": [
      "Data saved to synthetic_data.csv\n"
     ]
    }
   ],
   "source": [
    "output_path = 'synthetic_data.csv'\n",
    "df.coalesce(1).write.csv(output_path, header=True)\n",
    "\n",
    "# Остановка SparkSession\n",
    "spark.stop()\n",
    "\n",
    "print(f\"Data saved to {output_path}\")"
   ],
   "metadata": {
    "collapsed": false,
    "ExecuteTime": {
     "end_time": "2024-07-21T22:54:38.069464964Z",
     "start_time": "2024-07-21T22:54:35.184334281Z"
    }
   },
   "id": "6953bff59a1ec841"
  },
  {
   "cell_type": "code",
   "execution_count": null,
   "outputs": [],
   "source": [],
   "metadata": {
    "collapsed": false
   },
   "id": "1381a41cfdfe0258"
  }
 ],
 "metadata": {
  "kernelspec": {
   "display_name": "Python 3",
   "language": "python",
   "name": "python3"
  },
  "language_info": {
   "codemirror_mode": {
    "name": "ipython",
    "version": 2
   },
   "file_extension": ".py",
   "mimetype": "text/x-python",
   "name": "python",
   "nbconvert_exporter": "python",
   "pygments_lexer": "ipython2",
   "version": "2.7.6"
  }
 },
 "nbformat": 4,
 "nbformat_minor": 5
}
